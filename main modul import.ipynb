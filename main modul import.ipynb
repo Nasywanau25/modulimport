{
 "cells": [
  {
   "cell_type": "code",
   "execution_count": 9,
   "id": "773fee7b-d71c-4fc3-92bf-11652a1211c3",
   "metadata": {},
   "outputs": [
    {
     "data": {
      "text/plain": [
       "<module 'ubah_bilangan' from 'C:\\\\Users\\\\matot\\\\tugas daspro mato\\\\tugas modul import\\\\ubah_bilangan.py'>"
      ]
     },
     "execution_count": 9,
     "metadata": {},
     "output_type": "execute_result"
    }
   ],
   "source": [
    "import aritmatika\n",
    "import konversi\n",
    "import ubah_bilangan\n",
    "\n",
    "import importlib\n",
    "importlib.reload(aritmatika)\n",
    "importlib.reload(konversi)\n",
    "importlib.reload(ubah_bilangan)\n"
   ]
  },
  {
   "cell_type": "code",
   "execution_count": null,
   "id": "41c79b37-fb00-4a33-ad9f-640e67eb0c8e",
   "metadata": {},
   "outputs": [
    {
     "name": "stdout",
     "output_type": "stream",
     "text": [
      "\n",
      "Menu Utama:\n",
      "1. Aritmatika\n",
      "2. Konversi\n",
      "3. Ubah Bilangan\n",
      "4. Keluar\n"
     ]
    },
    {
     "name": "stdin",
     "output_type": "stream",
     "text": [
      "Pilih menu (1-4):  1\n"
     ]
    },
    {
     "name": "stdout",
     "output_type": "stream",
     "text": [
      "\n",
      "Menu Aritmatika:\n",
      "1. Penjumlahan\n",
      "2. Perpangkatan\n",
      "3. Perkalian\n",
      "4. Kembali ke Menu Utama\n"
     ]
    },
    {
     "name": "stdin",
     "output_type": "stream",
     "text": [
      "Pilih operasi (1-4):  1\n",
      "Masukkan bilangan pertama:  20\n",
      "Masukkan bilangan kedua:  30\n"
     ]
    },
    {
     "name": "stdout",
     "output_type": "stream",
     "text": [
      "Hasil penjumlahan: 50.0\n",
      "\n",
      "Menu Aritmatika:\n",
      "1. Penjumlahan\n",
      "2. Perpangkatan\n",
      "3. Perkalian\n",
      "4. Kembali ke Menu Utama\n"
     ]
    },
    {
     "name": "stdin",
     "output_type": "stream",
     "text": [
      "Pilih operasi (1-4):  2\n",
      "Masukkan bilangan pertama:  25\n",
      "Masukkan bilangan kedua:  2\n"
     ]
    },
    {
     "name": "stdout",
     "output_type": "stream",
     "text": [
      "Hasil perpangkatan: 625.0\n",
      "\n",
      "Menu Aritmatika:\n",
      "1. Penjumlahan\n",
      "2. Perpangkatan\n",
      "3. Perkalian\n",
      "4. Kembali ke Menu Utama\n"
     ]
    },
    {
     "name": "stdin",
     "output_type": "stream",
     "text": [
      "Pilih operasi (1-4):  3\n",
      "Masukkan bilangan pertama:  20\n",
      "Masukkan bilangan kedua:  2\n"
     ]
    },
    {
     "name": "stdout",
     "output_type": "stream",
     "text": [
      "Hasil perkalian: 40.0\n",
      "\n",
      "Menu Aritmatika:\n",
      "1. Penjumlahan\n",
      "2. Perpangkatan\n",
      "3. Perkalian\n",
      "4. Kembali ke Menu Utama\n"
     ]
    },
    {
     "name": "stdin",
     "output_type": "stream",
     "text": [
      "Pilih operasi (1-4):  4\n"
     ]
    },
    {
     "name": "stdout",
     "output_type": "stream",
     "text": [
      "\n",
      "Menu Utama:\n",
      "1. Aritmatika\n",
      "2. Konversi\n",
      "3. Ubah Bilangan\n",
      "4. Keluar\n"
     ]
    },
    {
     "name": "stdin",
     "output_type": "stream",
     "text": [
      "Pilih menu (1-4):  2\n"
     ]
    },
    {
     "name": "stdout",
     "output_type": "stream",
     "text": [
      "\n",
      "Menu Konversi:\n",
      "1. CM to M\n",
      "2. M to CM\n",
      "3. Kembali ke Menu Utama\n"
     ]
    },
    {
     "name": "stdin",
     "output_type": "stream",
     "text": [
      "Pilih konversi (1-3):  1\n",
      "Masukkan bilangan desimal:  21\n"
     ]
    },
    {
     "name": "stdout",
     "output_type": "stream",
     "text": [
      "21.0 cm = 0.21 m\n",
      "\n",
      "Menu Konversi:\n",
      "1. CM to M\n",
      "2. M to CM\n",
      "3. Kembali ke Menu Utama\n"
     ]
    },
    {
     "name": "stdin",
     "output_type": "stream",
     "text": [
      "Pilih konversi (1-3):  2\n",
      "Masukkan bilangan desimal:  1000\n"
     ]
    },
    {
     "name": "stdout",
     "output_type": "stream",
     "text": [
      "1000.0 m = 100000.0 cm\n",
      "\n",
      "Menu Konversi:\n",
      "1. CM to M\n",
      "2. M to CM\n",
      "3. Kembali ke Menu Utama\n"
     ]
    },
    {
     "name": "stdin",
     "output_type": "stream",
     "text": [
      "Pilih konversi (1-3):  3\n"
     ]
    },
    {
     "name": "stdout",
     "output_type": "stream",
     "text": [
      "\n",
      "Menu Utama:\n",
      "1. Aritmatika\n",
      "2. Konversi\n",
      "3. Ubah Bilangan\n",
      "4. Keluar\n"
     ]
    },
    {
     "name": "stdin",
     "output_type": "stream",
     "text": [
      "Pilih menu (1-4):  3\n"
     ]
    },
    {
     "name": "stdout",
     "output_type": "stream",
     "text": [
      "\n",
      "Menu Ubah Bilangan:\n",
      "1. Desimal to Biner\n",
      "2. Desimal to Oktal\n",
      "3. Desimal to Hexadesimal\n",
      "4. Kembali ke Menu Utama\n"
     ]
    },
    {
     "name": "stdin",
     "output_type": "stream",
     "text": [
      "Pilih konversi (1-4):  5\n"
     ]
    },
    {
     "name": "stdout",
     "output_type": "stream",
     "text": [
      "Pilihan tidak valid. Coba lagi.\n",
      "\n",
      "Menu Ubah Bilangan:\n",
      "1. Desimal to Biner\n",
      "2. Desimal to Oktal\n",
      "3. Desimal to Hexadesimal\n",
      "4. Kembali ke Menu Utama\n"
     ]
    },
    {
     "name": "stdin",
     "output_type": "stream",
     "text": [
      "Pilih konversi (1-4):  1\n",
      "Masukkan bilangan desimal (integer):  13\n"
     ]
    },
    {
     "name": "stdout",
     "output_type": "stream",
     "text": [
      "Desimal 13 = Biner 1101\n",
      "\n",
      "Menu Ubah Bilangan:\n",
      "1. Desimal to Biner\n",
      "2. Desimal to Oktal\n",
      "3. Desimal to Hexadesimal\n",
      "4. Kembali ke Menu Utama\n"
     ]
    },
    {
     "name": "stdin",
     "output_type": "stream",
     "text": [
      "Pilih konversi (1-4):  4\n"
     ]
    },
    {
     "name": "stdout",
     "output_type": "stream",
     "text": [
      "\n",
      "Menu Utama:\n",
      "1. Aritmatika\n",
      "2. Konversi\n",
      "3. Ubah Bilangan\n",
      "4. Keluar\n"
     ]
    }
   ],
   "source": [
    "def main_menu():\n",
    "    while True:\n",
    "        print(\"\\nMenu Utama:\")\n",
    "        print(\"1. Aritmatika\")\n",
    "        print(\"2. Konversi\")\n",
    "        print(\"3. Ubah Bilangan\")\n",
    "        print(\"4. Keluar\")\n",
    "\n",
    "        pilihan = input(\"Pilih menu (1-4): \")\n",
    "\n",
    "        if pilihan == '1':\n",
    "            aritmatika.menu_aritmatika()\n",
    "        elif pilihan == '2':\n",
    "            konversi.menu_konversi()\n",
    "        elif pilihan == '3':\n",
    "            ubah_bilangan.menu_ubah_bilangan()\n",
    "        elif pilihan == '4':\n",
    "            print(\"Terima kasih \")\n",
    "            break\n",
    "        else:\n",
    "            print(\"Pilihan tidak valid. Silakan coba lagi.\")\n",
    "\n",
    "\n",
    "main_menu()"
   ]
  },
  {
   "cell_type": "code",
   "execution_count": null,
   "id": "5bd36461-8cbd-441f-bd3d-6b664c16b068",
   "metadata": {},
   "outputs": [],
   "source": []
  }
 ],
 "metadata": {
  "kernelspec": {
   "display_name": "Python [conda env:base] *",
   "language": "python",
   "name": "conda-base-py"
  },
  "language_info": {
   "codemirror_mode": {
    "name": "ipython",
    "version": 3
   },
   "file_extension": ".py",
   "mimetype": "text/x-python",
   "name": "python",
   "nbconvert_exporter": "python",
   "pygments_lexer": "ipython3",
   "version": "3.12.7"
  }
 },
 "nbformat": 4,
 "nbformat_minor": 5
}
